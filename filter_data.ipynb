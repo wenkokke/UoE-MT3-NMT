{
 "cells": [
  {
   "cell_type": "code",
   "execution_count": 10,
   "metadata": {
    "collapsed": true
   },
   "outputs": [],
   "source": [
    "# coding: utf-8\n",
    "\n",
    "TEXT_ALL_EN = 'fr_en_data/text_all.en'\n",
    "TEXT_ALL_FR = 'fr_en_data/text_all.fr'\n",
    "\n",
    "TEXT_EN = 'fr_en_data/text.en'\n",
    "TEXT_FR = 'fr_en_data/text.fr'"
   ]
  },
  {
   "cell_type": "code",
   "execution_count": 11,
   "metadata": {
    "collapsed": false
   },
   "outputs": [
    {
     "name": "stdout",
     "output_type": "stream",
     "text": [
      "corpus size: en=2007723, fr=2007723\n"
     ]
    }
   ],
   "source": [
    "num_sentences_en = sum(1 for line_en in open(TEXT_ALL_EN))\n",
    "num_sentences_fr = sum(1 for line_fr in open(TEXT_ALL_FR))\n",
    "print(\"corpus size: en={0:d}, fr={1:d}\".format(num_sentences_en, num_sentences_fr))"
   ]
  },
  {
   "cell_type": "code",
   "execution_count": 12,
   "metadata": {
    "collapsed": false
   },
   "outputs": [],
   "source": [
    "with open(TEXT_ALL_EN, 'r') as text_all_en, open(TEXT_ALL_FR, 'r') as text_all_fr:\n",
    "    with open(TEXT_EN, 'w') as text_en, open(TEXT_FR, 'w') as text_fr:\n",
    "        for line_en, line_fr in zip(text_all_en, text_all_fr):\n",
    "            len_en = len(line_en.strip().split())\n",
    "            len_fr = len(line_fr.strip().split())\n",
    "            if len_en < 40 and len_fr < 40:\n",
    "                text_en.write(line_en)\n",
    "                text_fr.write(line_fr)"
   ]
  },
  {
   "cell_type": "code",
   "execution_count": 13,
   "metadata": {
    "collapsed": false
   },
   "outputs": [
    {
     "name": "stdout",
     "output_type": "stream",
     "text": [
      "corpus size: en=1632869, fr=1632869\n"
     ]
    }
   ],
   "source": [
    "num_sentences_en = sum(1 for line_en in open(TEXT_EN))\n",
    "num_sentences_fr = sum(1 for line_fr in open(TEXT_FR))\n",
    "print(\"corpus size: en={0:d}, fr={1:d}\".format(num_sentences_en, num_sentences_fr))"
   ]
  },
  {
   "cell_type": "code",
   "execution_count": null,
   "metadata": {
    "collapsed": true
   },
   "outputs": [],
   "source": []
  }
 ],
 "metadata": {
  "anaconda-cloud": {},
  "kernelspec": {
   "display_name": "Python [conda env:mtenv]",
   "language": "python",
   "name": "conda-env-mtenv-py"
  },
  "language_info": {
   "codemirror_mode": {
    "name": "ipython",
    "version": 3
   },
   "file_extension": ".py",
   "mimetype": "text/x-python",
   "name": "python",
   "nbconvert_exporter": "python",
   "pygments_lexer": "ipython3",
   "version": "3.6.0"
  }
 },
 "nbformat": 4,
 "nbformat_minor": 1
}
