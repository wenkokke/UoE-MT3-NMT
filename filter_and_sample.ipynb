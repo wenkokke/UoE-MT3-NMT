{
 "cells": [
  {
   "cell_type": "code",
   "execution_count": 1,
   "metadata": {
    "collapsed": true
   },
   "outputs": [],
   "source": [
    "# coding: utf-8\n",
    "\n",
    "import random"
   ]
  },
  {
   "cell_type": "code",
   "execution_count": 2,
   "metadata": {
    "collapsed": true
   },
   "outputs": [],
   "source": [
    "TEXT_ALL_EN = 'fr_en_data/text_all.en'\n",
    "TEXT_ALL_FR = 'fr_en_data/text_all.fr'\n",
    "\n",
    "MAX_SENTENCE_LENGTH = 40\n",
    "TEXT_SHORT_EN = 'fr_en_data/text_short.en'\n",
    "TEXT_SHORT_FR = 'fr_en_data/text_short.fr'\n",
    "\n",
    "NUM_SENTENCES = 50000\n",
    "TEXT_EN = 'fr_en_data/text.en'\n",
    "TEXT_FR = 'fr_en_data/text.fr'"
   ]
  },
  {
   "cell_type": "code",
   "execution_count": 3,
   "metadata": {
    "collapsed": false
   },
   "outputs": [
    {
     "name": "stdout",
     "output_type": "stream",
     "text": [
      "All sentences: 2007723\n"
     ]
    }
   ],
   "source": [
    "num_sentences_all_en = sum(1 for line_en in open(TEXT_ALL_EN))\n",
    "num_sentences_all_fr = sum(1 for line_fr in open(TEXT_ALL_FR))\n",
    "assert num_sentences_all_en == num_sentences_all_fr\n",
    "NUM_SENTENCES_ALL = min(num_sentences_all_en,num_sentences_all_fr)\n",
    "print(\"All sentences: {0:d}\".format(NUM_SENTENCES_ALL))"
   ]
  },
  {
   "cell_type": "code",
   "execution_count": 4,
   "metadata": {
    "collapsed": false
   },
   "outputs": [],
   "source": [
    "with open(TEXT_ALL_EN, 'r') as text_all_en, open(TEXT_ALL_FR, 'r') as text_all_fr:\n",
    "    with open(TEXT_SHORT_EN, 'w') as text_short_en, open(TEXT_SHORT_FR, 'w') as text_short_fr:\n",
    "        for line_en, line_fr in zip(text_all_en, text_all_fr):\n",
    "            len_en = len(line_en.strip().split())\n",
    "            len_fr = len(line_fr.strip().split())\n",
    "            if len_en < MAX_SENTENCE_LENGTH and len_fr < MAX_SENTENCE_LENGTH:\n",
    "                text_short_en.write(line_en)\n",
    "                text_short_fr.write(line_fr)"
   ]
  },
  {
   "cell_type": "code",
   "execution_count": 5,
   "metadata": {
    "collapsed": false
   },
   "outputs": [
    {
     "name": "stdout",
     "output_type": "stream",
     "text": [
      "Sentences <40: 1632869\n"
     ]
    }
   ],
   "source": [
    "num_sentences_short_en = sum(1 for line_en in open(TEXT_SHORT_EN))\n",
    "num_sentences_short_fr = sum(1 for line_fr in open(TEXT_SHORT_FR))\n",
    "assert num_sentences_short_en == num_sentences_short_fr\n",
    "NUM_SENTENCES_SHORT = min(num_sentences_short_en,num_sentences_short_fr)\n",
    "print(\"Sentences <{0:d}: {1:d}\".format(MAX_SENTENCE_LENGTH,NUM_SENTENCES_SHORT))"
   ]
  },
  {
   "cell_type": "code",
   "execution_count": 7,
   "metadata": {
    "collapsed": false
   },
   "outputs": [],
   "source": [
    "sample = set(random.sample(range(NUM_SENTENCES_SHORT),NUM_SENTENCES))\n",
    "assert len(sample) == NUM_SENTENCES\n",
    "\n",
    "with open(TEXT_SHORT_EN, 'r') as text_short_en, open(TEXT_SHORT_FR, 'r') as text_short_fr:\n",
    "    with open(TEXT_EN, 'w') as text_en, open(TEXT_FR, 'w') as text_fr:\n",
    "        for i, (line_en, line_fr) in enumerate(zip(text_short_en,text_short_fr)):\n",
    "            if i in sample:\n",
    "                text_en.write(line_en)\n",
    "                text_fr.write(line_fr)"
   ]
  },
  {
   "cell_type": "code",
   "execution_count": 8,
   "metadata": {
    "collapsed": false
   },
   "outputs": [
    {
     "name": "stdout",
     "output_type": "stream",
     "text": [
      "Sampled sentences: 50000\n"
     ]
    }
   ],
   "source": [
    "num_sentences_en = sum(1 for line_en in open(TEXT_EN))\n",
    "num_sentences_fr = sum(1 for line_fr in open(TEXT_FR))\n",
    "assert num_sentences_en == num_sentences_fr\n",
    "assert NUM_SENTENCES == min(num_sentences_en,num_sentences_fr),\"Expected {0:d} sentences, got {1:d}.\"\n",
    "print(\"Sampled sentences: {0:d}\".format(min(num_sentences_en,num_sentences_fr)))"
   ]
  },
  {
   "cell_type": "code",
   "execution_count": null,
   "metadata": {
    "collapsed": true
   },
   "outputs": [],
   "source": []
  }
 ],
 "metadata": {
  "anaconda-cloud": {},
  "kernelspec": {
   "display_name": "Python [conda env:mtenv]",
   "language": "python",
   "name": "conda-env-mtenv-py"
  },
  "language_info": {
   "codemirror_mode": {
    "name": "ipython",
    "version": 3
   },
   "file_extension": ".py",
   "mimetype": "text/x-python",
   "name": "python",
   "nbconvert_exporter": "python",
   "pygments_lexer": "ipython3",
   "version": "3.6.0"
  }
 },
 "nbformat": 4,
 "nbformat_minor": 1
}
