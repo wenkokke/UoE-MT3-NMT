{
 "cells": [
  {
   "cell_type": "code",
   "execution_count": 2,
   "metadata": {
    "collapsed": false
   },
   "outputs": [],
   "source": [
    "# coding: utf-8\n",
    "\n",
    "import collections\n",
    "import itertools\n",
    "import os\n",
    "import pickle\n",
    "import shutil\n",
    "import tqdm"
   ]
  },
  {
   "cell_type": "markdown",
   "metadata": {},
   "source": [
    "# Creating `.dict` files"
   ]
  },
  {
   "cell_type": "code",
   "execution_count": 3,
   "metadata": {
    "collapsed": true
   },
   "outputs": [],
   "source": [
    "def create_vocab_for_corpus(fn,dev_size=0.1):\n",
    "    \"\"\"Create the vocabulary and word embeddings for a single corpus.\"\"\"\n",
    "    \n",
    "    # compute the size of the train/dev set\n",
    "    num_sentences = sum(1 for line in open(fn, 'r'))\n",
    "    num_dev_sentences = int(num_sentences*dev_size)\n",
    "    num_training_sentences = num_sentences - num_dev_sentences\n",
    "    \n",
    "    # count tokens in the train set\n",
    "    count = collections.Counter()\n",
    "    with open(fn, 'r') as text:\n",
    "        for line in itertools.islice(text,num_training_sentences):\n",
    "            for tok in line.split():\n",
    "                count[tok.encode('utf8')] += 1\n",
    "    \n",
    "    vocab_by_freq = [tok for tok,num in count.most_common()]\n",
    "    vocab = dict(count)\n",
    "    w2i = {b'_PAD': 0, b'_GO': 1, b'_EOS': 2, b'_UNK': 3}\n",
    "    w2i.update(zip(vocab_by_freq, range(4,len(vocab_by_freq)+4)))\n",
    "    i2w = {v: k for k,v in w2i.items()}\n",
    "    return (vocab, w2i, i2w)"
   ]
  },
  {
   "cell_type": "code",
   "execution_count": 4,
   "metadata": {
    "collapsed": true
   },
   "outputs": [],
   "source": [
    "def create_vocab_for_parallel_corpus(text_en,text_fr):\n",
    "    \"\"\"Create the vocabulary and word embeddings for a parallel corpus.\"\"\"\n",
    "    vocab_en, w2i_en, i2w_en = create_vocab_for_corpus(text_en)\n",
    "    vocab_fr, w2i_fr, i2w_fr = create_vocab_for_corpus(text_fr)\n",
    "    print(\"vocab size: en={0:d}, fr={1:d}\".format(len(vocab_en),len(vocab_fr)))\n",
    "    vocab = {'en': vocab_en, 'fr': vocab_fr}\n",
    "    w2i   = {'en': w2i_en  , 'fr': w2i_fr  }\n",
    "    i2w   = {'en': i2w_en  , 'fr': i2w_fr  }\n",
    "    return (vocab, w2i, i2w)"
   ]
  },
  {
   "cell_type": "code",
   "execution_count": 5,
   "metadata": {
    "collapsed": false
   },
   "outputs": [],
   "source": [
    "def create_and_dump_vocab(data_dir,\n",
    "                          text_en='text.en',\n",
    "                          text_fr='text.fr',\n",
    "                          vocab_dict='vocab.dict',\n",
    "                          w2i_dict='w2i.dict',\n",
    "                          i2w_dict='i2w.dict'):\n",
    "    data_files = [text_en,text_fr,vocab_dict,w2i_dict,i2w_dict]\n",
    "    data_files = list(map(lambda fn: os.path.join(data_dir,fn),data_files))\n",
    "    text_en, text_fr, vocab_dict, w2i_dict, i2w_dict = data_files\n",
    "\n",
    "    vocab, w2i, i2w = create_vocab_for_parallel_corpus(text_en,text_fr)\n",
    "    pickle.dump(vocab, open(vocab_dict,'wb'))\n",
    "    pickle.dump(w2i, open(w2i_dict,'wb'))\n",
    "    pickle.dump(i2w, open(i2w_dict,'wb'))"
   ]
  },
  {
   "cell_type": "markdown",
   "metadata": {},
   "source": [
    "# Character-based tokenisation"
   ]
  },
  {
   "cell_type": "code",
   "execution_count": 6,
   "metadata": {
    "collapsed": true
   },
   "outputs": [],
   "source": [
    "def char_tokenise_file(data_file_in,data_file_out):\n",
    "    with open(data_file_out, 'w') as text_out:\n",
    "        with open(data_file_in, 'r') as text_in:\n",
    "            for line in text_in:\n",
    "                text_out.write(line.replace(' '*0,' '*1).replace(' '*3,' '*2))"
   ]
  },
  {
   "cell_type": "code",
   "execution_count": 7,
   "metadata": {
    "collapsed": true
   },
   "outputs": [],
   "source": [
    "def char_tokenise_dir(data_dir_in,data_dir_out,\n",
    "                      text_en='text.en',text_fr='text.fr',\n",
    "                      char_tokenise_en=True,char_tokenise_fr=True):\n",
    "    \n",
    "    # compute paths to input files\n",
    "    data_files_in = [text_en, text_fr]\n",
    "    data_files_in = list(map(lambda fn: os.path.join(data_dir_in,fn), data_files_in))\n",
    "    text_en_in, text_fr_in = data_files_in\n",
    "    \n",
    "    # compute paths to output files\n",
    "    data_files_out = [text_en, text_fr]\n",
    "    data_files_out = list(map(lambda fn: os.path.join(data_dir_out,fn), data_files_out))\n",
    "    text_en_out, text_fr_out = data_files_out\n",
    "    \n",
    "    # create the output directory\n",
    "    if not os.path.isdir(data_dir_out):\n",
    "        os.makedirs(data_dir_out)\n",
    "    \n",
    "    # tokenise by character\n",
    "    if char_tokenise_en:\n",
    "        char_tokenise_file(text_en_in,text_en_out)\n",
    "    else:\n",
    "        shutil.copyfile(text_en_in,text_en_out)\n",
    "    if char_tokenise_fr:\n",
    "        char_tokenise_file(text_fr_in,text_fr_out)\n",
    "    else:\n",
    "        shutil.copyfile(text_fr_in,text_fr_out)"
   ]
  },
  {
   "cell_type": "markdown",
   "metadata": {},
   "source": [
    "# Most Common Bigram Tokenisation"
   ]
  },
  {
   "cell_type": "code",
   "execution_count": 8,
   "metadata": {
    "collapsed": false
   },
   "outputs": [],
   "source": [
    "def create_toks_dict(toks_list):\n",
    "    toks_list = sorted(toks_list)\n",
    "    return {k:list(sorted(v,key=len,reverse=True))\n",
    "            for k,v in itertools.groupby(toks_list, key=lambda ln: ln[0])}"
   ]
  },
  {
   "cell_type": "code",
   "execution_count": 9,
   "metadata": {
    "collapsed": true
   },
   "outputs": [],
   "source": [
    "def toks_tokenise_line(line,toks_dict,start=0):\n",
    "    toks = []\n",
    "    while start < len(line) - 1:\n",
    "        for tok in toks_dict[line[start]]:\n",
    "            if line.startswith(tok,start):\n",
    "                start += len(tok)\n",
    "                toks.append(tok)\n",
    "                break\n",
    "    return toks"
   ]
  },
  {
   "cell_type": "code",
   "execution_count": 10,
   "metadata": {
    "collapsed": true
   },
   "outputs": [],
   "source": [
    "def toks_tokenise_text(text,toks_dict):\n",
    "    count = collections.Counter()\n",
    "    for line in text:\n",
    "        toks = toks_tokenise_line(line,toks_dict)\n",
    "        for bigram in zip(toks,toks[1:]):\n",
    "            count[bigram] += 1\n",
    "    return count"
   ]
  },
  {
   "cell_type": "code",
   "execution_count": 11,
   "metadata": {
    "collapsed": true
   },
   "outputs": [],
   "source": [
    "def create_toks_list(text,max_size):\n",
    "    text = [line.replace(' '*1,' '*0).strip() for line in text]\n",
    "    toks_list = set(itertools.chain(*[line.replace(' '*0,' '*1).strip().split() for line in text]))\n",
    "    toks_dict = create_toks_dict(toks_list)\n",
    "    start_size = len(toks_list)\n",
    "    for _ in tqdm.tqdm_notebook(range(start_size,max_size)):\n",
    "        count = toks_tokenise_text(text,toks_dict)\n",
    "        most_common = ''.join(count.most_common()[:1][0][0])\n",
    "        toks_dict[most_common[0]].append(most_common)\n",
    "        toks_dict[most_common[0]].sort(key=len,reverse=True)\n",
    "    return tuple(itertools.chain(*toks_dict.values()))"
   ]
  },
  {
   "cell_type": "code",
   "execution_count": 12,
   "metadata": {
    "collapsed": false
   },
   "outputs": [],
   "source": [
    "def mcb_tokenise_file(data_file_in,data_file_out,fmax_size):\n",
    "    with open(data_file_in, 'r') as text_in:\n",
    "        text_in = [line for line in text_in]\n",
    "    # compute the max size based on the start corpus size\n",
    "    max_size = fmax_size(len(set(itertools.chain(*[line.strip().split() for line in text_in]))))\n",
    "    toks_list = create_toks_list(text_in,max_size)\n",
    "    toks_dict = create_toks_dict(toks_list)\n",
    "    with open(data_file_out, 'w') as text_out:\n",
    "        for line in text_in:\n",
    "            text_out.write(' '.join(toks_tokenise_line(line.replace(' '*1,' '*0),toks_dict)))"
   ]
  },
  {
   "cell_type": "code",
   "execution_count": 13,
   "metadata": {
    "collapsed": false
   },
   "outputs": [],
   "source": [
    "def mcb_tokenise_dir(data_dir_in,data_dir_out,fmax_size,\n",
    "                      text_en='text.en',text_fr='text.fr',\n",
    "                      mcb_tokenise_en=True,mcb_tokenise_fr=True):\n",
    "    \n",
    "    # compute paths to input files\n",
    "    data_files_in = [text_en,text_fr]\n",
    "    data_files_in = list(map(lambda fn: os.path.join(data_dir_in,fn), data_files_in))\n",
    "    text_en_in, text_fr_in = data_files_in\n",
    "    \n",
    "    # compute paths to output files\n",
    "    data_files_out = [text_en, text_fr]\n",
    "    data_files_out = list(map(lambda fn: os.path.join(data_dir_out,fn), data_files_out))\n",
    "    text_en_out, text_fr_out = data_files_out\n",
    "    \n",
    "    # create the output directory\n",
    "    if not os.path.isdir(data_dir_out):\n",
    "        os.makedirs(data_dir_out)\n",
    "    \n",
    "    # tokenise by character\n",
    "    if mcb_tokenise_en:\n",
    "        mcb_tokenise_file(text_en_in,text_en_out,fmax_size)\n",
    "    else:\n",
    "        shutil.copyfile(text_en_in,text_en_out)\n",
    "    if mcb_tokenise_fr:\n",
    "        mcb_tokenise_file(text_fr_in,text_fr_out,fmax_size)\n",
    "    else:\n",
    "        shutil.copyfile(text_fr_in,text_fr_out)"
   ]
  },
  {
   "cell_type": "markdown",
   "metadata": {},
   "source": [
    "# Creating datasets"
   ]
  },
  {
   "cell_type": "code",
   "execution_count": 14,
   "metadata": {
    "collapsed": false
   },
   "outputs": [
    {
     "name": "stdout",
     "output_type": "stream",
     "text": [
      "vocab size: en=9359, fr=34892\n"
     ]
    }
   ],
   "source": [
    "create_and_dump_vocab('in_en_data_mcb8_50000')"
   ]
  },
  {
   "cell_type": "code",
   "execution_count": 24,
   "metadata": {
    "collapsed": false
   },
   "outputs": [
    {
     "name": "stdout",
     "output_type": "stream",
     "text": [
      "vocab size: en=41786, fr=55790\n"
     ]
    }
   ],
   "source": [
    "# data created using filter_and_sample.ipynb\n",
    "create_and_dump_vocab('fr_en_data_50000')"
   ]
  },
  {
   "cell_type": "code",
   "execution_count": 14,
   "metadata": {
    "collapsed": false
   },
   "outputs": [
    {
     "name": "stdout",
     "output_type": "stream",
     "text": [
      "vocab size: en=154, fr=154\n"
     ]
    }
   ],
   "source": [
    "char_tokenise_dir(data_dir_in='fr_en_data_50000',data_dir_out='fr_en_data_char_50000')\n",
    "create_and_dump_vocab('fr_en_data_char_50000')"
   ]
  },
  {
   "cell_type": "code",
   "execution_count": 15,
   "metadata": {
    "collapsed": false
   },
   "outputs": [
    {
     "name": "stdout",
     "output_type": "stream",
     "text": [
      "vocab size: en=46, fr=47\n"
     ]
    }
   ],
   "source": [
    "char_tokenise_dir(data_dir_in='in_en_data_50000',data_dir_out='in_en_data_char_50000')\n",
    "create_and_dump_vocab('in_en_data_char_50000')"
   ]
  },
  {
   "cell_type": "code",
   "execution_count": 16,
   "metadata": {
    "collapsed": false
   },
   "outputs": [
    {
     "name": "stdout",
     "output_type": "stream",
     "text": [
      "vocab size: en=74, fr=73\n"
     ]
    }
   ],
   "source": [
    "char_tokenise_dir(data_dir_in='hu_en_data_50000',data_dir_out='hu_en_data_char_50000')\n",
    "create_and_dump_vocab('hu_en_data_char_50000')"
   ]
  },
  {
   "cell_type": "code",
   "execution_count": 17,
   "metadata": {
    "collapsed": false
   },
   "outputs": [
    {
     "name": "stdout",
     "output_type": "stream",
     "text": [
      "vocab size: en=41786, fr=154\n"
     ]
    }
   ],
   "source": [
    "char_tokenise_dir(data_dir_in='fr_en_data_50000',data_dir_out='fr_en_data_halfjack_50000',char_tokenise_en=False)\n",
    "create_and_dump_vocab('fr_en_data_halfjack_50000')"
   ]
  },
  {
   "cell_type": "code",
   "execution_count": 18,
   "metadata": {
    "collapsed": false
   },
   "outputs": [
    {
     "name": "stdout",
     "output_type": "stream",
     "text": [
      "vocab size: en=9359, fr=47\n"
     ]
    }
   ],
   "source": [
    "char_tokenise_dir(data_dir_in='in_en_data_50000',data_dir_out='in_en_data_halfjack_50000',char_tokenise_en=False)\n",
    "create_and_dump_vocab('in_en_data_halfjack_50000')"
   ]
  },
  {
   "cell_type": "code",
   "execution_count": 19,
   "metadata": {
    "collapsed": false
   },
   "outputs": [
    {
     "name": "stdout",
     "output_type": "stream",
     "text": [
      "vocab size: en=13066, fr=73\n"
     ]
    }
   ],
   "source": [
    "char_tokenise_dir(data_dir_in='hu_en_data_50000',data_dir_out='hu_en_data_halfjack_50000',char_tokenise_en=False)\n",
    "create_and_dump_vocab('hu_en_data_halfjack_50000')"
   ]
  },
  {
   "cell_type": "code",
   "execution_count": null,
   "metadata": {
    "collapsed": true
   },
   "outputs": [],
   "source": []
  }
 ],
 "metadata": {
  "anaconda-cloud": {},
  "kernelspec": {
   "display_name": "Python [conda env:mtenv]",
   "language": "python",
   "name": "conda-env-mtenv-py"
  },
  "language_info": {
   "codemirror_mode": {
    "name": "ipython",
    "version": 3
   },
   "file_extension": ".py",
   "mimetype": "text/x-python",
   "name": "python",
   "nbconvert_exporter": "python",
   "pygments_lexer": "ipython3",
   "version": "3.6.0"
  }
 },
 "nbformat": 4,
 "nbformat_minor": 2
}
