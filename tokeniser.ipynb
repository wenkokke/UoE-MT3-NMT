{
 "cells": [
  {
   "cell_type": "code",
   "execution_count": 33,
   "metadata": {
    "collapsed": true
   },
   "outputs": [],
   "source": [
    "# coding: utf-8\n",
    "\n",
    "import collections\n",
    "import itertools\n",
    "import os\n",
    "import pickle"
   ]
  },
  {
   "cell_type": "code",
   "execution_count": 34,
   "metadata": {
    "collapsed": true
   },
   "outputs": [],
   "source": [
    "def create_vocab(fn,dev_size=0.1):\n",
    "    \"\"\"Create the vocabulary and word embeddings for a single corpus.\"\"\"\n",
    "    \n",
    "    # compute the size of the train/dev set\n",
    "    num_sentences = sum(1 for line in open(fn, 'r'))\n",
    "    num_dev_sentences = int(num_sentences*dev_size)\n",
    "    num_training_sentences = num_sentences - num_dev_sentences\n",
    "    \n",
    "    # count tokens in the train set\n",
    "    count = collections.Counter()\n",
    "    with open(fn, 'r') as text:\n",
    "        for line in itertools.islice(text,num_training_sentences):\n",
    "            for tok in line.split():\n",
    "                count[tok.encode('utf8')] += 1\n",
    "    \n",
    "    vocab_by_freq = [tok for tok,num in count.most_common()]\n",
    "    vocab = dict(count)\n",
    "    w2i = {b'_PAD': 0, b'_GO': 1, b'_EOS': 2, b'_UNK': 3}\n",
    "    w2i.update(zip(vocab_by_freq, range(4,len(vocab_by_freq)+4)))\n",
    "    i2w = {v: k for k,v in w2i.items()}\n",
    "    return (vocab, w2i, i2w)"
   ]
  },
  {
   "cell_type": "code",
   "execution_count": 35,
   "metadata": {
    "collapsed": true
   },
   "outputs": [],
   "source": [
    "def create_vocab2(text_en,text_fr):\n",
    "    \"\"\"Create the vocabulary and word embeddings for a parallel corpus.\"\"\"\n",
    "    vocab_en, w2i_en, i2w_en = create_vocab(text_en)\n",
    "    vocab_fr, w2i_fr, i2w_fr = create_vocab(text_fr)\n",
    "    print(\"vocab size: en={0:d}, fr={1:d}\".format(len(vocab_en),len(vocab_fr)))\n",
    "    vocab = {'en': vocab_en, 'fr': vocab_fr}\n",
    "    w2i   = {'en': w2i_en  , 'fr': w2i_fr  }\n",
    "    i2w   = {'en': i2w_en  , 'fr': i2w_fr  }\n",
    "    return (vocab, w2i, i2w)"
   ]
  },
  {
   "cell_type": "code",
   "execution_count": 36,
   "metadata": {
    "collapsed": false
   },
   "outputs": [],
   "source": [
    "def create_and_dump_vocab2(data_dir,\n",
    "                           text_en='text.en',\n",
    "                           text_fr='text.fr',\n",
    "                           vocab_dict='vocab.dict',\n",
    "                           w2i_dict='w2i.dict',\n",
    "                           i2w_dict='i2w.dict'):\n",
    "    data_files = [text_en,text_fr,vocab_dict,w2i_dict,i2w_dict]\n",
    "    data_files = list(map(lambda fn: os.path.join(data_dir,fn),data_files))\n",
    "    text_en, text_fr, vocab_dict, w2i_dict, i2w_dict = data_files\n",
    "\n",
    "    vocab, w2i, i2w = create_vocab2(text_en,text_fr)\n",
    "    pickle.dump(vocab, open(vocab_dict,'wb'))\n",
    "    pickle.dump(w2i, open(w2i_dict,'wb'))\n",
    "    pickle.dump(i2w, open(i2w_dict,'wb'))"
   ]
  },
  {
   "cell_type": "code",
   "execution_count": 37,
   "metadata": {
    "collapsed": false
   },
   "outputs": [
    {
     "name": "stdout",
     "output_type": "stream",
     "text": [
      "vocab size: en=47224, fr=62413\n"
     ]
    }
   ],
   "source": [
    "create_and_dump_vocab2('fr_en_data_50000')"
   ]
  },
  {
   "cell_type": "code",
   "execution_count": 38,
   "metadata": {
    "collapsed": false
   },
   "outputs": [
    {
     "name": "stdout",
     "output_type": "stream",
     "text": [
      "vocab size: en=46, fr=47\n"
     ]
    }
   ],
   "source": [
    "create_and_dump_vocab2('in_en_data_char_50000')"
   ]
  },
  {
   "cell_type": "code",
   "execution_count": 39,
   "metadata": {
    "collapsed": false
   },
   "outputs": [
    {
     "name": "stdout",
     "output_type": "stream",
     "text": [
      "vocab size: en=74, fr=73\n"
     ]
    }
   ],
   "source": [
    "create_and_dump_vocab2('hu_en_data_char_50000')"
   ]
  },
  {
   "cell_type": "code",
   "execution_count": 40,
   "metadata": {
    "collapsed": false
   },
   "outputs": [
    {
     "name": "stdout",
     "output_type": "stream",
     "text": [
      "vocab size: en=163, fr=173\n"
     ]
    }
   ],
   "source": [
    "create_and_dump_vocab2('fr_en_data_char_50000')"
   ]
  },
  {
   "cell_type": "code",
   "execution_count": null,
   "metadata": {
    "collapsed": true
   },
   "outputs": [],
   "source": []
  }
 ],
 "metadata": {
  "anaconda-cloud": {},
  "kernelspec": {
   "display_name": "Python [default]",
   "language": "python",
   "name": "python3"
  },
  "language_info": {
   "codemirror_mode": {
    "name": "ipython",
    "version": 3
   },
   "file_extension": ".py",
   "mimetype": "text/x-python",
   "name": "python",
   "nbconvert_exporter": "python",
   "pygments_lexer": "ipython3",
   "version": "3.5.2"
  }
 },
 "nbformat": 4,
 "nbformat_minor": 2
}
