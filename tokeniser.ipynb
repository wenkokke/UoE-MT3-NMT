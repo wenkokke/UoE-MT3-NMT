{
 "cells": [
  {
   "cell_type": "code",
   "execution_count": 16,
   "metadata": {
    "collapsed": true
   },
   "outputs": [],
   "source": [
    "# coding: utf-8\n",
    "\n",
    "import collections\n",
    "import os\n",
    "import pickle"
   ]
  },
  {
   "cell_type": "code",
   "execution_count": 28,
   "metadata": {
    "collapsed": true
   },
   "outputs": [],
   "source": [
    "def mk_vocab1(data_file):\n",
    "    \"\"\"Create the vocabulary and word embeddings for a single corpus.\"\"\"\n",
    "    count = collections.Counter()\n",
    "    with open(data_file, 'r') as text:\n",
    "        for line in text:\n",
    "            for tok in line.split():\n",
    "                count[tok.encode('utf8')] += 1\n",
    "                \n",
    "    vocab_by_freq = [tok for tok,num in count.most_common()]\n",
    "    print(\"vocab size: {0:d}\".format(len(vocab_by_freq)+4))\n",
    "    vocab = dict(count)\n",
    "    w2i = {b'_PAD': 0, b'_GO': 1, b'_EOS': 2, b'_UNK': 3}\n",
    "    w2i.update(zip(vocab_by_freq, range(4,len(vocab_by_freq)+4)))\n",
    "    i2w = {v: k for k,v in w2i.items()}\n",
    "    return (vocab, w2i, i2w)"
   ]
  },
  {
   "cell_type": "code",
   "execution_count": 29,
   "metadata": {
    "collapsed": true
   },
   "outputs": [],
   "source": [
    "def mk_vocab(data_dir):\n",
    "    \"\"\"Create the vocabulary and word embeddings for a parallel corpus.\"\"\"\n",
    "    vocab_en, w2i_en, i2w_en = mk_vocab1(os.path.join(data_dir,'text.en'))\n",
    "    vocab_fr, w2i_fr, i2w_fr = mk_vocab1(os.path.join(data_dir,'text.fr'))\n",
    "    vocab = {'en': vocab_en, 'fr': vocab_fr}\n",
    "    w2i   = {'en': w2i_en  , 'fr': w2i_fr  }\n",
    "    i2w   = {'en': i2w_en  , 'fr': i2w_fr  }\n",
    "    pickle.dump(vocab, open(os.path.join(data_dir,'vocab.dict'), 'wb'))\n",
    "    pickle.dump(w2i  , open(os.path.join(data_dir,'w2i.dict')  , 'wb'))\n",
    "    pickle.dump(i2w  , open(os.path.join(data_dir,'i2w.dict')  , 'wb'))"
   ]
  },
  {
   "cell_type": "code",
   "execution_count": 30,
   "metadata": {
    "collapsed": false
   },
   "outputs": [
    {
     "name": "stdout",
     "output_type": "stream",
     "text": [
      "vocab size: 10000\n",
      "vocab size: 72738\n"
     ]
    }
   ],
   "source": [
    "mk_vocab('in_en_data_50000')"
   ]
  },
  {
   "cell_type": "code",
   "execution_count": 27,
   "metadata": {
    "collapsed": false
   },
   "outputs": [
    {
     "name": "stdout",
     "output_type": "stream",
     "text": [
      "vocab size: en=9359, fr=64854\n"
     ]
    }
   ],
   "source": [
    "vocab = pickle.load(open(os.path.join('in_en_data_50000', 'vocab.dict'), 'rb'))\n",
    "print(\"vocab size: en={0:d}, fr={1:d}\".format(len(vocab['en']), len(vocab['fr'])))"
   ]
  },
  {
   "cell_type": "code",
   "execution_count": null,
   "metadata": {
    "collapsed": true
   },
   "outputs": [],
   "source": []
  }
 ],
 "metadata": {
  "anaconda-cloud": {},
  "kernelspec": {
   "display_name": "Python [default]",
   "language": "python",
   "name": "python3"
  },
  "language_info": {
   "codemirror_mode": {
    "name": "ipython",
    "version": 3
   },
   "file_extension": ".py",
   "mimetype": "text/x-python",
   "name": "python",
   "nbconvert_exporter": "python",
   "pygments_lexer": "ipython3",
   "version": "3.5.2"
  }
 },
 "nbformat": 4,
 "nbformat_minor": 2
}
